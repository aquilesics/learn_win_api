{
 "cells": [
  {
   "cell_type": "code",
   "execution_count": 1,
   "metadata": {},
   "outputs": [],
   "source": [
    "import win32gui, win32ui, win32con\n",
    "from time import sleep\n",
    "import cv2\n",
    "import pyautogui\n",
    "import numpy as np\n",
    "from PIL import ImageGrab\n",
    "import pytesseract\n",
    "import PIL"
   ]
  },
  {
   "cell_type": "markdown",
   "metadata": {},
   "source": [
    "## lista janelas "
   ]
  },
  {
   "cell_type": "code",
   "execution_count": 2,
   "metadata": {},
   "outputs": [],
   "source": [
    "def list_windows_name():\n",
    "    def winEnumHandler(hwnd,ctx):\n",
    "        if win32gui.IsWindowVisible(hwnd):\n",
    "            print(hex(hwnd), win32gui.GetWindowText(hwnd) )\n",
    "    win32gui.EnumWindows(winEnumHandler,None)    "
   ]
  },
  {
   "cell_type": "code",
   "execution_count": 3,
   "metadata": {},
   "outputs": [
    {
     "name": "stdout",
     "output_type": "stream",
     "text": [
      "0x4804f6 \n",
      "0x204e2 \n",
      "0x100e0 \n",
      "0x3001e \n",
      "0x90478 ● main.ipynb - learn_win_api - Visual Studio Code\n",
      "0x80542 Home · UB-Mannheim/tesseract Wiki - Google Chrome\n",
      "0x1d0616 terminal.png - IrfanView (Zoom: 1029 x 650)\n",
      "0x14059e Downloads\n",
      "0x2305ec \n",
      "0x80516 Configurações\n",
      "0x17062e Configurações\n",
      "0x601e6 \n",
      "0x90494 \n",
      "0x6042c \n",
      "0x4050e Windows PowerShell\n",
      "0x202a4 Experiência de Entrada do Windows\n",
      "0x10176 \n",
      "0x10168 \n",
      "0x10156 \n",
      "0x10142 \n",
      "0x10136 \n",
      "0x10134 \n",
      "0x10132 \n",
      "0x10130 \n",
      "0x70592 Explorador de Arquivos\n",
      "0x704f0 \n",
      "0x70514 \n",
      "0x100f6 Program Manager\n"
     ]
    }
   ],
   "source": [
    "list_windows_name()"
   ]
  },
  {
   "cell_type": "markdown",
   "metadata": {},
   "source": [
    "## procura por janelas filhas"
   ]
  },
  {
   "cell_type": "code",
   "execution_count": 4,
   "metadata": {},
   "outputs": [],
   "source": [
    "def get_inner_windows(whndl):\n",
    "    def callback(hwnd, hwnds):\n",
    "        if win32gui.IsWindowVisible(hwnd) and win32gui.IsWindowEnabled(hwnd):\n",
    "            hwnds[win32gui.GetClassName(hwnd)] = hwnd\n",
    "        return True\n",
    "    hwnds = {} \n",
    "    win32gui.EnumChildWindows(whndl, callback, hwnds)\n",
    "    return hwnds"
   ]
  },
  {
   "cell_type": "markdown",
   "metadata": {},
   "source": [
    "## interage com janela"
   ]
  },
  {
   "cell_type": "code",
   "execution_count": 5,
   "metadata": {},
   "outputs": [],
   "source": [
    "def interact():\n",
    "    window_name = 'teste - wc3270'\n",
    "    hwnd = win32gui.FindWindow(None, window_name)\n",
    "    # hwnd =  get_inner_windows(hwnd)['Edit']\n",
    "    win = win32ui.CreateWindowFromHandle(hwnd)\n",
    "    \n",
    "    # win.SendMessage(win32con.WM_KEYDOWN, 0x32, 0)\n",
    "    # sleep(0.01)\n",
    "    # win.SendMessage(win32con.WM_KEYUP, 0x32, 0)\n",
    "\n",
    "    win.SendMessage(win32con.WM_CHAR, ord('A'), 0)"
   ]
  },
  {
   "cell_type": "markdown",
   "metadata": {},
   "source": [
    "## Captura"
   ]
  },
  {
   "cell_type": "code",
   "execution_count": 6,
   "metadata": {},
   "outputs": [],
   "source": [
    "\n",
    "def window_captura():\n",
    "\n",
    "        # w = 1040 # set this\n",
    "        # h = 720 # set this\n",
    "        # bmpfilenamename = \"out.bmp\" #set this\n",
    "    \n",
    "    hwnd = win32gui.FindWindow(None, 'terminal.png - IrfanView (Zoom: 1029 x 650)')\n",
    "\n",
    "\n",
    "\n",
    "    window_rec = win32gui.GetWindowRect(hwnd)\n",
    "    w = window_rec[2] - window_rec[0]\n",
    "    h = window_rec[3] - window_rec[1]\n",
    "\n",
    "    border_pixel = 8\n",
    "    titlebar_pixel = 30\n",
    "    w = w -     (border_pixel * 2)\n",
    "    h = h - titlebar_pixel - border_pixel\n",
    "\n",
    "\n",
    "    wDC = win32gui.GetWindowDC(hwnd)\n",
    "    dcObj=win32ui.CreateDCFromHandle(wDC)\n",
    "    cDC=dcObj.CreateCompatibleDC()\n",
    "    dataBitMap = win32ui.CreateBitmap()\n",
    "    dataBitMap.CreateCompatibleBitmap(dcObj, w, h)\n",
    "    cDC.SelectObject(dataBitMap)\n",
    "    cDC.BitBlt((0,0),(w, h) , dcObj, (0,0), win32con.SRCCOPY)\n",
    "    \n",
    "    # # save image\n",
    "    # dataBitMap.SaveBitmapFile(cDC, 'dubug.bmp')\n",
    "\n",
    "    singedIntsArray = dataBitMap.GetBitmapBits(True)\n",
    "    img = np.fromstring(singedIntsArray,dtype='uint8')\n",
    "    img.shape = (h,w,4)\n",
    "\n",
    "    # Free Resources\n",
    "    dcObj.DeleteDC()\n",
    "    cDC.DeleteDC()\n",
    "    win32gui.ReleaseDC(hwnd, wDC)\n",
    "    win32gui.DeleteObject(dataBitMap.GetHandle())\n",
    "\n",
    "    return img"
   ]
  },
  {
   "cell_type": "code",
   "execution_count": 7,
   "metadata": {},
   "outputs": [
    {
     "name": "stderr",
     "output_type": "stream",
     "text": [
      "C:\\Users\\Junior\\AppData\\Local\\Temp\\ipykernel_17628\\3659337590.py:33: DeprecationWarning: The binary mode of fromstring is deprecated, as it behaves surprisingly on unicode inputs. Use frombuffer instead\n",
      "  img = np.fromstring(singedIntsArray,dtype='uint8')\n"
     ]
    }
   ],
   "source": [
    "while(True):\n",
    "\n",
    "    screenshot = window_captura()\n",
    "    # screenshot = np.array(screenshot)\n",
    "    # screenshot = cv2.cvtColor(screenshot, cv2.COLOR_RGB2BGR)\n",
    "   \n",
    "    cv2.imshow('computer vision',screenshot)\n",
    "\n",
    "    if cv2.waitKey(1) == ord('q'):\n",
    "        cv2.destroyAllWindows()\n",
    "        break\n"
   ]
  },
  {
   "cell_type": "markdown",
   "metadata": {},
   "source": [
    "## OCR \n",
    " -> [download link](https://digi.bib.uni-mannheim.de/tesseract/tesseract-ocr-w64-setup-v5.0.1.20220118.exe)"
   ]
  },
  {
   "cell_type": "code",
   "execution_count": 9,
   "metadata": {},
   "outputs": [
    {
     "ename": "TesseractNotFoundError",
     "evalue": "tesseract is not installed or it's not in your PATH. See README file for more information.",
     "output_type": "error",
     "traceback": [
      "\u001b[1;31m---------------------------------------------------------------------------\u001b[0m",
      "\u001b[1;31mFileNotFoundError\u001b[0m                         Traceback (most recent call last)",
      "File \u001b[1;32mf:\\repos\\github\\aquilesics\\learn_win_api\\.venv\\lib\\site-packages\\pytesseract\\pytesseract.py:254\u001b[0m, in \u001b[0;36mrun_tesseract\u001b[1;34m(input_filename, output_filename_base, extension, lang, config, nice, timeout)\u001b[0m\n\u001b[0;32m    <a href='file:///f%3A/repos/github/aquilesics/learn_win_api/.venv/lib/site-packages/pytesseract/pytesseract.py?line=252'>253</a>\u001b[0m \u001b[39mtry\u001b[39;00m:\n\u001b[1;32m--> <a href='file:///f%3A/repos/github/aquilesics/learn_win_api/.venv/lib/site-packages/pytesseract/pytesseract.py?line=253'>254</a>\u001b[0m     proc \u001b[39m=\u001b[39m subprocess\u001b[39m.\u001b[39mPopen(cmd_args, \u001b[39m*\u001b[39m\u001b[39m*\u001b[39msubprocess_args())\n\u001b[0;32m    <a href='file:///f%3A/repos/github/aquilesics/learn_win_api/.venv/lib/site-packages/pytesseract/pytesseract.py?line=254'>255</a>\u001b[0m \u001b[39mexcept\u001b[39;00m \u001b[39mOSError\u001b[39;00m \u001b[39mas\u001b[39;00m e:\n",
      "File \u001b[1;32m~\\AppData\\Local\\Programs\\Python\\Python310\\lib\\subprocess.py:966\u001b[0m, in \u001b[0;36mPopen.__init__\u001b[1;34m(self, args, bufsize, executable, stdin, stdout, stderr, preexec_fn, close_fds, shell, cwd, env, universal_newlines, startupinfo, creationflags, restore_signals, start_new_session, pass_fds, user, group, extra_groups, encoding, errors, text, umask, pipesize)\u001b[0m\n\u001b[0;32m    <a href='file:///c%3A/Users/Junior/AppData/Local/Programs/Python/Python310/lib/subprocess.py?line=962'>963</a>\u001b[0m             \u001b[39mself\u001b[39m\u001b[39m.\u001b[39mstderr \u001b[39m=\u001b[39m io\u001b[39m.\u001b[39mTextIOWrapper(\u001b[39mself\u001b[39m\u001b[39m.\u001b[39mstderr,\n\u001b[0;32m    <a href='file:///c%3A/Users/Junior/AppData/Local/Programs/Python/Python310/lib/subprocess.py?line=963'>964</a>\u001b[0m                     encoding\u001b[39m=\u001b[39mencoding, errors\u001b[39m=\u001b[39merrors)\n\u001b[1;32m--> <a href='file:///c%3A/Users/Junior/AppData/Local/Programs/Python/Python310/lib/subprocess.py?line=965'>966</a>\u001b[0m     \u001b[39mself\u001b[39;49m\u001b[39m.\u001b[39;49m_execute_child(args, executable, preexec_fn, close_fds,\n\u001b[0;32m    <a href='file:///c%3A/Users/Junior/AppData/Local/Programs/Python/Python310/lib/subprocess.py?line=966'>967</a>\u001b[0m                         pass_fds, cwd, env,\n\u001b[0;32m    <a href='file:///c%3A/Users/Junior/AppData/Local/Programs/Python/Python310/lib/subprocess.py?line=967'>968</a>\u001b[0m                         startupinfo, creationflags, shell,\n\u001b[0;32m    <a href='file:///c%3A/Users/Junior/AppData/Local/Programs/Python/Python310/lib/subprocess.py?line=968'>969</a>\u001b[0m                         p2cread, p2cwrite,\n\u001b[0;32m    <a href='file:///c%3A/Users/Junior/AppData/Local/Programs/Python/Python310/lib/subprocess.py?line=969'>970</a>\u001b[0m                         c2pread, c2pwrite,\n\u001b[0;32m    <a href='file:///c%3A/Users/Junior/AppData/Local/Programs/Python/Python310/lib/subprocess.py?line=970'>971</a>\u001b[0m                         errread, errwrite,\n\u001b[0;32m    <a href='file:///c%3A/Users/Junior/AppData/Local/Programs/Python/Python310/lib/subprocess.py?line=971'>972</a>\u001b[0m                         restore_signals,\n\u001b[0;32m    <a href='file:///c%3A/Users/Junior/AppData/Local/Programs/Python/Python310/lib/subprocess.py?line=972'>973</a>\u001b[0m                         gid, gids, uid, umask,\n\u001b[0;32m    <a href='file:///c%3A/Users/Junior/AppData/Local/Programs/Python/Python310/lib/subprocess.py?line=973'>974</a>\u001b[0m                         start_new_session)\n\u001b[0;32m    <a href='file:///c%3A/Users/Junior/AppData/Local/Programs/Python/Python310/lib/subprocess.py?line=974'>975</a>\u001b[0m \u001b[39mexcept\u001b[39;00m:\n\u001b[0;32m    <a href='file:///c%3A/Users/Junior/AppData/Local/Programs/Python/Python310/lib/subprocess.py?line=975'>976</a>\u001b[0m     \u001b[39m# Cleanup if the child failed starting.\u001b[39;00m\n",
      "File \u001b[1;32m~\\AppData\\Local\\Programs\\Python\\Python310\\lib\\subprocess.py:1435\u001b[0m, in \u001b[0;36mPopen._execute_child\u001b[1;34m(self, args, executable, preexec_fn, close_fds, pass_fds, cwd, env, startupinfo, creationflags, shell, p2cread, p2cwrite, c2pread, c2pwrite, errread, errwrite, unused_restore_signals, unused_gid, unused_gids, unused_uid, unused_umask, unused_start_new_session)\u001b[0m\n\u001b[0;32m   <a href='file:///c%3A/Users/Junior/AppData/Local/Programs/Python/Python310/lib/subprocess.py?line=1433'>1434</a>\u001b[0m \u001b[39mtry\u001b[39;00m:\n\u001b[1;32m-> <a href='file:///c%3A/Users/Junior/AppData/Local/Programs/Python/Python310/lib/subprocess.py?line=1434'>1435</a>\u001b[0m     hp, ht, pid, tid \u001b[39m=\u001b[39m _winapi\u001b[39m.\u001b[39;49mCreateProcess(executable, args,\n\u001b[0;32m   <a href='file:///c%3A/Users/Junior/AppData/Local/Programs/Python/Python310/lib/subprocess.py?line=1435'>1436</a>\u001b[0m                              \u001b[39m# no special security\u001b[39;49;00m\n\u001b[0;32m   <a href='file:///c%3A/Users/Junior/AppData/Local/Programs/Python/Python310/lib/subprocess.py?line=1436'>1437</a>\u001b[0m                              \u001b[39mNone\u001b[39;49;00m, \u001b[39mNone\u001b[39;49;00m,\n\u001b[0;32m   <a href='file:///c%3A/Users/Junior/AppData/Local/Programs/Python/Python310/lib/subprocess.py?line=1437'>1438</a>\u001b[0m                              \u001b[39mint\u001b[39;49m(\u001b[39mnot\u001b[39;49;00m close_fds),\n\u001b[0;32m   <a href='file:///c%3A/Users/Junior/AppData/Local/Programs/Python/Python310/lib/subprocess.py?line=1438'>1439</a>\u001b[0m                              creationflags,\n\u001b[0;32m   <a href='file:///c%3A/Users/Junior/AppData/Local/Programs/Python/Python310/lib/subprocess.py?line=1439'>1440</a>\u001b[0m                              env,\n\u001b[0;32m   <a href='file:///c%3A/Users/Junior/AppData/Local/Programs/Python/Python310/lib/subprocess.py?line=1440'>1441</a>\u001b[0m                              cwd,\n\u001b[0;32m   <a href='file:///c%3A/Users/Junior/AppData/Local/Programs/Python/Python310/lib/subprocess.py?line=1441'>1442</a>\u001b[0m                              startupinfo)\n\u001b[0;32m   <a href='file:///c%3A/Users/Junior/AppData/Local/Programs/Python/Python310/lib/subprocess.py?line=1442'>1443</a>\u001b[0m \u001b[39mfinally\u001b[39;00m:\n\u001b[0;32m   <a href='file:///c%3A/Users/Junior/AppData/Local/Programs/Python/Python310/lib/subprocess.py?line=1443'>1444</a>\u001b[0m     \u001b[39m# Child is launched. Close the parent's copy of those pipe\u001b[39;00m\n\u001b[0;32m   <a href='file:///c%3A/Users/Junior/AppData/Local/Programs/Python/Python310/lib/subprocess.py?line=1444'>1445</a>\u001b[0m     \u001b[39m# handles that only the child should have open.  You need\u001b[39;00m\n\u001b[1;32m   (...)\u001b[0m\n\u001b[0;32m   <a href='file:///c%3A/Users/Junior/AppData/Local/Programs/Python/Python310/lib/subprocess.py?line=1447'>1448</a>\u001b[0m     \u001b[39m# pipe will not close when the child process exits and the\u001b[39;00m\n\u001b[0;32m   <a href='file:///c%3A/Users/Junior/AppData/Local/Programs/Python/Python310/lib/subprocess.py?line=1448'>1449</a>\u001b[0m     \u001b[39m# ReadFile will hang.\u001b[39;00m\n",
      "\u001b[1;31mFileNotFoundError\u001b[0m: [WinError 2] O sistema não pode encontrar o arquivo especificado",
      "\nDuring handling of the above exception, another exception occurred:\n",
      "\u001b[1;31mTesseractNotFoundError\u001b[0m                    Traceback (most recent call last)",
      "\u001b[1;32mf:\\repos\\github\\aquilesics\\learn_win_api\\main.ipynb Cell 13'\u001b[0m in \u001b[0;36m<cell line: 3>\u001b[1;34m()\u001b[0m\n\u001b[0;32m      <a href='vscode-notebook-cell:/f%3A/repos/github/aquilesics/learn_win_api/main.ipynb#ch0000016?line=0'>1</a>\u001b[0m filename \u001b[39m=\u001b[39m \u001b[39m'\u001b[39m\u001b[39mterminal.png\u001b[39m\u001b[39m'\u001b[39m\n\u001b[0;32m      <a href='vscode-notebook-cell:/f%3A/repos/github/aquilesics/learn_win_api/main.ipynb#ch0000016?line=1'>2</a>\u001b[0m img1 \u001b[39m=\u001b[39m np\u001b[39m.\u001b[39marray(PIL\u001b[39m.\u001b[39mImage\u001b[39m.\u001b[39mopen(filename))\n\u001b[1;32m----> <a href='vscode-notebook-cell:/f%3A/repos/github/aquilesics/learn_win_api/main.ipynb#ch0000016?line=2'>3</a>\u001b[0m text \u001b[39m=\u001b[39m pytesseract\u001b[39m.\u001b[39mimage_to_string(img1)\n",
      "File \u001b[1;32mf:\\repos\\github\\aquilesics\\learn_win_api\\.venv\\lib\\site-packages\\pytesseract\\pytesseract.py:416\u001b[0m, in \u001b[0;36mimage_to_string\u001b[1;34m(image, lang, config, nice, output_type, timeout)\u001b[0m\n\u001b[0;32m    <a href='file:///f%3A/repos/github/aquilesics/learn_win_api/.venv/lib/site-packages/pytesseract/pytesseract.py?line=410'>411</a>\u001b[0m \u001b[39m\"\"\"\u001b[39;00m\n\u001b[0;32m    <a href='file:///f%3A/repos/github/aquilesics/learn_win_api/.venv/lib/site-packages/pytesseract/pytesseract.py?line=411'>412</a>\u001b[0m \u001b[39mReturns the result of a Tesseract OCR run on the provided image to string\u001b[39;00m\n\u001b[0;32m    <a href='file:///f%3A/repos/github/aquilesics/learn_win_api/.venv/lib/site-packages/pytesseract/pytesseract.py?line=412'>413</a>\u001b[0m \u001b[39m\"\"\"\u001b[39;00m\n\u001b[0;32m    <a href='file:///f%3A/repos/github/aquilesics/learn_win_api/.venv/lib/site-packages/pytesseract/pytesseract.py?line=413'>414</a>\u001b[0m args \u001b[39m=\u001b[39m [image, \u001b[39m'\u001b[39m\u001b[39mtxt\u001b[39m\u001b[39m'\u001b[39m, lang, config, nice, timeout]\n\u001b[1;32m--> <a href='file:///f%3A/repos/github/aquilesics/learn_win_api/.venv/lib/site-packages/pytesseract/pytesseract.py?line=415'>416</a>\u001b[0m \u001b[39mreturn\u001b[39;00m {\n\u001b[0;32m    <a href='file:///f%3A/repos/github/aquilesics/learn_win_api/.venv/lib/site-packages/pytesseract/pytesseract.py?line=416'>417</a>\u001b[0m     Output\u001b[39m.\u001b[39;49mBYTES: \u001b[39mlambda\u001b[39;49;00m: run_and_get_output(\u001b[39m*\u001b[39;49m(args \u001b[39m+\u001b[39;49m [\u001b[39mTrue\u001b[39;49;00m])),\n\u001b[0;32m    <a href='file:///f%3A/repos/github/aquilesics/learn_win_api/.venv/lib/site-packages/pytesseract/pytesseract.py?line=417'>418</a>\u001b[0m     Output\u001b[39m.\u001b[39;49mDICT: \u001b[39mlambda\u001b[39;49;00m: {\u001b[39m'\u001b[39;49m\u001b[39mtext\u001b[39;49m\u001b[39m'\u001b[39;49m: run_and_get_output(\u001b[39m*\u001b[39;49margs)},\n\u001b[0;32m    <a href='file:///f%3A/repos/github/aquilesics/learn_win_api/.venv/lib/site-packages/pytesseract/pytesseract.py?line=418'>419</a>\u001b[0m     Output\u001b[39m.\u001b[39;49mSTRING: \u001b[39mlambda\u001b[39;49;00m: run_and_get_output(\u001b[39m*\u001b[39;49margs),\n\u001b[0;32m    <a href='file:///f%3A/repos/github/aquilesics/learn_win_api/.venv/lib/site-packages/pytesseract/pytesseract.py?line=419'>420</a>\u001b[0m }[output_type]()\n",
      "File \u001b[1;32mf:\\repos\\github\\aquilesics\\learn_win_api\\.venv\\lib\\site-packages\\pytesseract\\pytesseract.py:419\u001b[0m, in \u001b[0;36mimage_to_string.<locals>.<lambda>\u001b[1;34m()\u001b[0m\n\u001b[0;32m    <a href='file:///f%3A/repos/github/aquilesics/learn_win_api/.venv/lib/site-packages/pytesseract/pytesseract.py?line=410'>411</a>\u001b[0m \u001b[39m\"\"\"\u001b[39;00m\n\u001b[0;32m    <a href='file:///f%3A/repos/github/aquilesics/learn_win_api/.venv/lib/site-packages/pytesseract/pytesseract.py?line=411'>412</a>\u001b[0m \u001b[39mReturns the result of a Tesseract OCR run on the provided image to string\u001b[39;00m\n\u001b[0;32m    <a href='file:///f%3A/repos/github/aquilesics/learn_win_api/.venv/lib/site-packages/pytesseract/pytesseract.py?line=412'>413</a>\u001b[0m \u001b[39m\"\"\"\u001b[39;00m\n\u001b[0;32m    <a href='file:///f%3A/repos/github/aquilesics/learn_win_api/.venv/lib/site-packages/pytesseract/pytesseract.py?line=413'>414</a>\u001b[0m args \u001b[39m=\u001b[39m [image, \u001b[39m'\u001b[39m\u001b[39mtxt\u001b[39m\u001b[39m'\u001b[39m, lang, config, nice, timeout]\n\u001b[0;32m    <a href='file:///f%3A/repos/github/aquilesics/learn_win_api/.venv/lib/site-packages/pytesseract/pytesseract.py?line=415'>416</a>\u001b[0m \u001b[39mreturn\u001b[39;00m {\n\u001b[0;32m    <a href='file:///f%3A/repos/github/aquilesics/learn_win_api/.venv/lib/site-packages/pytesseract/pytesseract.py?line=416'>417</a>\u001b[0m     Output\u001b[39m.\u001b[39mBYTES: \u001b[39mlambda\u001b[39;00m: run_and_get_output(\u001b[39m*\u001b[39m(args \u001b[39m+\u001b[39m [\u001b[39mTrue\u001b[39;00m])),\n\u001b[0;32m    <a href='file:///f%3A/repos/github/aquilesics/learn_win_api/.venv/lib/site-packages/pytesseract/pytesseract.py?line=417'>418</a>\u001b[0m     Output\u001b[39m.\u001b[39mDICT: \u001b[39mlambda\u001b[39;00m: {\u001b[39m'\u001b[39m\u001b[39mtext\u001b[39m\u001b[39m'\u001b[39m: run_and_get_output(\u001b[39m*\u001b[39margs)},\n\u001b[1;32m--> <a href='file:///f%3A/repos/github/aquilesics/learn_win_api/.venv/lib/site-packages/pytesseract/pytesseract.py?line=418'>419</a>\u001b[0m     Output\u001b[39m.\u001b[39mSTRING: \u001b[39mlambda\u001b[39;00m: run_and_get_output(\u001b[39m*\u001b[39;49margs),\n\u001b[0;32m    <a href='file:///f%3A/repos/github/aquilesics/learn_win_api/.venv/lib/site-packages/pytesseract/pytesseract.py?line=419'>420</a>\u001b[0m }[output_type]()\n",
      "File \u001b[1;32mf:\\repos\\github\\aquilesics\\learn_win_api\\.venv\\lib\\site-packages\\pytesseract\\pytesseract.py:286\u001b[0m, in \u001b[0;36mrun_and_get_output\u001b[1;34m(image, extension, lang, config, nice, timeout, return_bytes)\u001b[0m\n\u001b[0;32m    <a href='file:///f%3A/repos/github/aquilesics/learn_win_api/.venv/lib/site-packages/pytesseract/pytesseract.py?line=274'>275</a>\u001b[0m \u001b[39mwith\u001b[39;00m save(image) \u001b[39mas\u001b[39;00m (temp_name, input_filename):\n\u001b[0;32m    <a href='file:///f%3A/repos/github/aquilesics/learn_win_api/.venv/lib/site-packages/pytesseract/pytesseract.py?line=275'>276</a>\u001b[0m     kwargs \u001b[39m=\u001b[39m {\n\u001b[0;32m    <a href='file:///f%3A/repos/github/aquilesics/learn_win_api/.venv/lib/site-packages/pytesseract/pytesseract.py?line=276'>277</a>\u001b[0m         \u001b[39m'\u001b[39m\u001b[39minput_filename\u001b[39m\u001b[39m'\u001b[39m: input_filename,\n\u001b[0;32m    <a href='file:///f%3A/repos/github/aquilesics/learn_win_api/.venv/lib/site-packages/pytesseract/pytesseract.py?line=277'>278</a>\u001b[0m         \u001b[39m'\u001b[39m\u001b[39moutput_filename_base\u001b[39m\u001b[39m'\u001b[39m: temp_name,\n\u001b[1;32m   (...)\u001b[0m\n\u001b[0;32m    <a href='file:///f%3A/repos/github/aquilesics/learn_win_api/.venv/lib/site-packages/pytesseract/pytesseract.py?line=282'>283</a>\u001b[0m         \u001b[39m'\u001b[39m\u001b[39mtimeout\u001b[39m\u001b[39m'\u001b[39m: timeout,\n\u001b[0;32m    <a href='file:///f%3A/repos/github/aquilesics/learn_win_api/.venv/lib/site-packages/pytesseract/pytesseract.py?line=283'>284</a>\u001b[0m     }\n\u001b[1;32m--> <a href='file:///f%3A/repos/github/aquilesics/learn_win_api/.venv/lib/site-packages/pytesseract/pytesseract.py?line=285'>286</a>\u001b[0m     run_tesseract(\u001b[39m*\u001b[39m\u001b[39m*\u001b[39mkwargs)\n\u001b[0;32m    <a href='file:///f%3A/repos/github/aquilesics/learn_win_api/.venv/lib/site-packages/pytesseract/pytesseract.py?line=286'>287</a>\u001b[0m     filename \u001b[39m=\u001b[39m kwargs[\u001b[39m'\u001b[39m\u001b[39moutput_filename_base\u001b[39m\u001b[39m'\u001b[39m] \u001b[39m+\u001b[39m extsep \u001b[39m+\u001b[39m extension\n\u001b[0;32m    <a href='file:///f%3A/repos/github/aquilesics/learn_win_api/.venv/lib/site-packages/pytesseract/pytesseract.py?line=287'>288</a>\u001b[0m     \u001b[39mwith\u001b[39;00m \u001b[39mopen\u001b[39m(filename, \u001b[39m'\u001b[39m\u001b[39mrb\u001b[39m\u001b[39m'\u001b[39m) \u001b[39mas\u001b[39;00m output_file:\n",
      "File \u001b[1;32mf:\\repos\\github\\aquilesics\\learn_win_api\\.venv\\lib\\site-packages\\pytesseract\\pytesseract.py:258\u001b[0m, in \u001b[0;36mrun_tesseract\u001b[1;34m(input_filename, output_filename_base, extension, lang, config, nice, timeout)\u001b[0m\n\u001b[0;32m    <a href='file:///f%3A/repos/github/aquilesics/learn_win_api/.venv/lib/site-packages/pytesseract/pytesseract.py?line=255'>256</a>\u001b[0m     \u001b[39mif\u001b[39;00m e\u001b[39m.\u001b[39merrno \u001b[39m!=\u001b[39m ENOENT:\n\u001b[0;32m    <a href='file:///f%3A/repos/github/aquilesics/learn_win_api/.venv/lib/site-packages/pytesseract/pytesseract.py?line=256'>257</a>\u001b[0m         \u001b[39mraise\u001b[39;00m e\n\u001b[1;32m--> <a href='file:///f%3A/repos/github/aquilesics/learn_win_api/.venv/lib/site-packages/pytesseract/pytesseract.py?line=257'>258</a>\u001b[0m     \u001b[39mraise\u001b[39;00m TesseractNotFoundError()\n\u001b[0;32m    <a href='file:///f%3A/repos/github/aquilesics/learn_win_api/.venv/lib/site-packages/pytesseract/pytesseract.py?line=259'>260</a>\u001b[0m \u001b[39mwith\u001b[39;00m timeout_manager(proc, timeout) \u001b[39mas\u001b[39;00m error_string:\n\u001b[0;32m    <a href='file:///f%3A/repos/github/aquilesics/learn_win_api/.venv/lib/site-packages/pytesseract/pytesseract.py?line=260'>261</a>\u001b[0m     \u001b[39mif\u001b[39;00m proc\u001b[39m.\u001b[39mreturncode:\n",
      "\u001b[1;31mTesseractNotFoundError\u001b[0m: tesseract is not installed or it's not in your PATH. See README file for more information."
     ]
    }
   ],
   "source": [
    "filename = 'terminal.png'\n",
    "img1 = np.array(PIL.Image.open(filename))\n",
    "text = pytesseract.image_to_string(img1)"
   ]
  }
 ],
 "metadata": {
  "interpreter": {
   "hash": "ea26887fc9b8bc9d34b66040d78257aaab6d87b9be7bb8707c84b54ec2ea56ae"
  },
  "kernelspec": {
   "display_name": "Python 3.10.2 64-bit ('.venv': venv)",
   "language": "python",
   "name": "python3"
  },
  "language_info": {
   "codemirror_mode": {
    "name": "ipython",
    "version": 3
   },
   "file_extension": ".py",
   "mimetype": "text/x-python",
   "name": "python",
   "nbconvert_exporter": "python",
   "pygments_lexer": "ipython3",
   "version": "3.10.2"
  },
  "orig_nbformat": 4
 },
 "nbformat": 4,
 "nbformat_minor": 2
}
