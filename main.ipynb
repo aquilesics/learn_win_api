{
 "cells": [
  {
   "cell_type": "code",
   "execution_count": 45,
   "metadata": {},
   "outputs": [],
   "source": [
    "import win32gui, win32ui, win32con\n",
    "from time import sleep"
   ]
  },
  {
   "cell_type": "markdown",
   "metadata": {},
   "source": [
    "## lista janelas "
   ]
  },
  {
   "cell_type": "code",
   "execution_count": 46,
   "metadata": {},
   "outputs": [],
   "source": [
    "\n",
    "\n",
    "def list_windows_name():\n",
    "    def winEnumHandler(hwnd,ctx):\n",
    "        if win32gui.IsWindowVisible(hwnd):\n",
    "            print(hex(hwnd), win32gui.GetWindowText(hwnd) )\n",
    "    win32gui.EnumWindows(winEnumHandler,None)    "
   ]
  },
  {
   "cell_type": "code",
   "execution_count": 47,
   "metadata": {},
   "outputs": [
    {
     "name": "stdout",
     "output_type": "stream",
     "text": [
      "0x20568 \n",
      "0x100cc \n",
      "0x1008e \n",
      "0x206ca ● main.ipynb - learn_win_api - Visual Studio Code\n",
      "0x8065c teste - wc3270\n",
      "0x14066e Instalador\n",
      "0x5064c *Sem título - Bloco de notas\n",
      "0x205a8 MSI Afterburner \n",
      "0x500ee Configurações\n",
      "0xf0376 Configurações\n",
      "0x10304 Experiência de Entrada do Windows\n",
      "0x10166 \n",
      "0x1017e \n",
      "0x10152 \n",
      "0x10142 \n",
      "0x10140 \n",
      "0x1013e \n",
      "0x1013c \n",
      "0x1704b4 aquilesics\n",
      "0x404e6 (2039) Lesanderd7G3 - YouTube - Google Chrome\n",
      "0x200fe Program Manager\n"
     ]
    }
   ],
   "source": [
    "list_windows_name()\n"
   ]
  },
  {
   "cell_type": "markdown",
   "metadata": {},
   "source": [
    "## procura por janelas filhas"
   ]
  },
  {
   "cell_type": "code",
   "execution_count": 48,
   "metadata": {},
   "outputs": [],
   "source": [
    "def get_inner_windows(whndl):\n",
    "    def callback(hwnd, hwnds):\n",
    "        if win32gui.IsWindowVisible(hwnd) and win32gui.IsWindowEnabled(hwnd):\n",
    "            hwnds[win32gui.GetClassName(hwnd)] = hwnd\n",
    "        return True\n",
    "    hwnds = {} \n",
    "    win32gui.EnumChildWindows(whndl, callback, hwnds)\n",
    "    return hwnds"
   ]
  },
  {
   "cell_type": "markdown",
   "metadata": {},
   "source": [
    "## interage com janela"
   ]
  },
  {
   "cell_type": "code",
   "execution_count": 49,
   "metadata": {},
   "outputs": [],
   "source": [
    "def interact():\n",
    "    window_name = 'teste - wc3270'\n",
    "    hwnd = win32gui.FindWindow(None, window_name)\n",
    "    # hwnd =  get_inner_windows(hwnd)['Edit']\n",
    "    win = win32ui.CreateWindowFromHandle(hwnd)\n",
    "    \n",
    "    # win.SendMessage(win32con.WM_KEYDOWN, 0x32, 0)\n",
    "    # sleep(0.01)\n",
    "    # win.SendMessage(win32con.WM_KEYUP, 0x32, 0)\n",
    "\n",
    "    win.SendMessage(win32con.WM_CHAR, ord('A'), 0)"
   ]
  },
  {
   "cell_type": "code",
   "execution_count": 50,
   "metadata": {},
   "outputs": [],
   "source": [
    "interact()"
   ]
  },
  {
   "cell_type": "code",
   "execution_count": null,
   "metadata": {},
   "outputs": [],
   "source": []
  }
 ],
 "metadata": {
  "interpreter": {
   "hash": "ea26887fc9b8bc9d34b66040d78257aaab6d87b9be7bb8707c84b54ec2ea56ae"
  },
  "kernelspec": {
   "display_name": "Python 3.10.2 64-bit ('.venv': venv)",
   "language": "python",
   "name": "python3"
  },
  "language_info": {
   "codemirror_mode": {
    "name": "ipython",
    "version": 3
   },
   "file_extension": ".py",
   "mimetype": "text/x-python",
   "name": "python",
   "nbconvert_exporter": "python",
   "pygments_lexer": "ipython3",
   "version": "3.10.2"
  },
  "orig_nbformat": 4
 },
 "nbformat": 4,
 "nbformat_minor": 2
}
