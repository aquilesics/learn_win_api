{
 "cells": [
  {
   "cell_type": "code",
   "execution_count": 2,
   "metadata": {},
   "outputs": [],
   "source": [
    "import win32gui, win32ui, win32con\n",
    "from time import sleep\n",
    "import cv2\n",
    "import pyautogui\n",
    "import numpy as np\n",
    "from PIL import ImageGrab\n",
    "import pytesseract\n",
    "import PIL"
   ]
  },
  {
   "cell_type": "markdown",
   "metadata": {},
   "source": [
    "## lista janelas "
   ]
  },
  {
   "cell_type": "code",
   "execution_count": 3,
   "metadata": {},
   "outputs": [],
   "source": [
    "def list_windows_name():\n",
    "    def winEnumHandler(hwnd,ctx):\n",
    "        if win32gui.IsWindowVisible(hwnd):\n",
    "            print(hex(hwnd), win32gui.GetWindowText(hwnd) )\n",
    "    win32gui.EnumWindows(winEnumHandler,None)    "
   ]
  },
  {
   "cell_type": "code",
   "execution_count": 4,
   "metadata": {},
   "outputs": [
    {
     "name": "stdout",
     "output_type": "stream",
     "text": [
      "0x20040 \n",
      "0x100a2 \n",
      "0x100e4 \n",
      "0x20572 ● main.ipynb - learn_win_api - Visual Studio Code\n",
      "0x6009a Electronic - Listen to Free Radio Stations - AccuRadio - Google Chrome\n",
      "0x10690 terminal.png - IrfanView (Zoom: 1029 x 650)\n",
      "0x10388 Configurações\n",
      "0x30372 Configurações\n",
      "0x402f8 Experiência de Entrada do Windows\n",
      "0x1017a \n",
      "0x1018c \n",
      "0x3004c \n",
      "0x1015a \n",
      "0x1014e \n",
      "0x1014c \n",
      "0x1014a \n",
      "0x10148 \n",
      "0x10110 Program Manager\n"
     ]
    }
   ],
   "source": [
    "list_windows_name()"
   ]
  },
  {
   "cell_type": "markdown",
   "metadata": {},
   "source": [
    "## procura por janelas filhas"
   ]
  },
  {
   "cell_type": "code",
   "execution_count": 5,
   "metadata": {},
   "outputs": [],
   "source": [
    "def get_inner_windows(whndl):\n",
    "    def callback(hwnd, hwnds):\n",
    "        if win32gui.IsWindowVisible(hwnd) and win32gui.IsWindowEnabled(hwnd):\n",
    "            hwnds[win32gui.GetClassName(hwnd)] = hwnd\n",
    "        return True\n",
    "    hwnds = {} \n",
    "    win32gui.EnumChildWindows(whndl, callback, hwnds)\n",
    "    return hwnds"
   ]
  },
  {
   "cell_type": "markdown",
   "metadata": {},
   "source": [
    "## interage com janela"
   ]
  },
  {
   "cell_type": "code",
   "execution_count": 6,
   "metadata": {},
   "outputs": [],
   "source": [
    "def interact():\n",
    "    window_name = 'teste - wc3270'\n",
    "    hwnd = win32gui.FindWindow(None, window_name)\n",
    "    # hwnd =  get_inner_windows(hwnd)['Edit']\n",
    "    win = win32ui.CreateWindowFromHandle(hwnd)\n",
    "    \n",
    "    # win.SendMessage(win32con.WM_KEYDOWN, 0x32, 0)\n",
    "    # sleep(0.01)\n",
    "    # win.SendMessage(win32con.WM_KEYUP, 0x32, 0)\n",
    "\n",
    "    win.SendMessage(win32con.WM_CHAR, ord('A'), 0)"
   ]
  },
  {
   "cell_type": "markdown",
   "metadata": {},
   "source": [
    "## Captura"
   ]
  },
  {
   "cell_type": "code",
   "execution_count": 7,
   "metadata": {},
   "outputs": [],
   "source": [
    "\n",
    "def window_captura():\n",
    "\n",
    "        # w = 1040 # set this\n",
    "        # h = 720 # set this\n",
    "        # bmpfilenamename = \"out.bmp\" #set this\n",
    "    \n",
    "    hwnd = win32gui.FindWindow(None, 'terminal.png - IrfanView (Zoom: 1029 x 650)')\n",
    "\n",
    "\n",
    "\n",
    "    window_rec = win32gui.GetWindowRect(hwnd)\n",
    "    w = window_rec[2] - window_rec[0]\n",
    "    h = window_rec[3] - window_rec[1]\n",
    "\n",
    "    border_pixel = 8\n",
    "    titlebar_pixel = 30\n",
    "    w = w -     (border_pixel * 2)\n",
    "    h = h - titlebar_pixel - border_pixel\n",
    "\n",
    "\n",
    "    wDC = win32gui.GetWindowDC(hwnd)\n",
    "    dcObj=win32ui.CreateDCFromHandle(wDC)\n",
    "    cDC=dcObj.CreateCompatibleDC()\n",
    "    dataBitMap = win32ui.CreateBitmap()\n",
    "    dataBitMap.CreateCompatibleBitmap(dcObj, w, h)\n",
    "    cDC.SelectObject(dataBitMap)\n",
    "    cDC.BitBlt((0,0),(w, h) , dcObj, (0,0), win32con.SRCCOPY)\n",
    "    \n",
    "    # # save image\n",
    "    # dataBitMap.SaveBitmapFile(cDC, 'dubug.bmp')\n",
    "\n",
    "    singedIntsArray = dataBitMap.GetBitmapBits(True)\n",
    "    img = np.fromstring(singedIntsArray,dtype='uint8')\n",
    "    img.shape = (h,w,4)\n",
    "\n",
    "    # Free Resources\n",
    "    dcObj.DeleteDC()\n",
    "    cDC.DeleteDC()\n",
    "    win32gui.ReleaseDC(hwnd, wDC)\n",
    "    win32gui.DeleteObject(dataBitMap.GetHandle())\n",
    "\n",
    "    return img"
   ]
  },
  {
   "cell_type": "code",
   "execution_count": 8,
   "metadata": {},
   "outputs": [
    {
     "name": "stderr",
     "output_type": "stream",
     "text": [
      "C:\\Users\\Junior\\AppData\\Local\\Temp\\ipykernel_15104\\3659337590.py:33: DeprecationWarning: The binary mode of fromstring is deprecated, as it behaves surprisingly on unicode inputs. Use frombuffer instead\n",
      "  img = np.fromstring(singedIntsArray,dtype='uint8')\n"
     ]
    }
   ],
   "source": [
    "while(True):\n",
    "\n",
    "    screenshot = window_captura()\n",
    "    # screenshot = np.array(screenshot)\n",
    "    # screenshot = cv2.cvtColor(screenshot, cv2.COLOR_RGB2BGR)\n",
    "   \n",
    "    cv2.imshow('computer vision',screenshot)\n",
    "\n",
    "    if cv2.waitKey(1) == ord('q'):\n",
    "        cv2.destroyAllWindows()\n",
    "        break\n"
   ]
  },
  {
   "cell_type": "markdown",
   "metadata": {},
   "source": [
    "## OCR \n",
    " -> [download link](https://digi.bib.uni-mannheim.de/tesseract/tesseract-ocr-w64-setup-v5.0.1.20220118.exe)"
   ]
  },
  {
   "cell_type": "code",
   "execution_count": 15,
   "metadata": {},
   "outputs": [],
   "source": [
    "filename = 'terminal.png'\n",
    "pytesseract.pytesseract.tesseract_cmd = r'C:\\Users\\...\\Tesseract-OCR\\tesseract.exe'\n",
    "img1 = np.array(PIL.Image.open(filename))\n",
    "text = pytesseract.image_to_string(img1)"
   ]
  },
  {
   "cell_type": "code",
   "execution_count": 17,
   "metadata": {},
   "outputs": [
    {
     "name": "stdout",
     "output_type": "stream",
     "text": [
      "DSN = VENDOR.VTAM.SOURCE(USSTAB3) 2014-08-05 16:29:10.803732\n",
      "\n",
      "==WELCOME==TO THE=\n",
      "\n",
      "IBM Innovation Center - Dallas==\n",
      "\n",
      "Net Name\n",
      "\n",
      "LU Name TCPO0O709\n",
      "\n",
      "SSCP Name\n",
      "\n",
      "Client IP 10.32.24.69\n",
      "Client Name\n",
      "\n",
      "Date/Time 05/04/17 15:18:17\n",
      "\n",
      "Choese from the following commands Tso\n",
      "cics\n",
      "CICSVBIA\n",
      "JERRY\n",
      "\n",
      "TSO on Dalia\n",
      "CICSV41A (4.1)\n",
      "CICSVBIA (3.2)\n",
      "z/VM on Jerry\n",
      "\n",
      "A mysessio\n",
      "\n"
     ]
    }
   ],
   "source": [
    "print(text)"
   ]
  },
  {
   "cell_type": "code",
   "execution_count": null,
   "metadata": {},
   "outputs": [],
   "source": []
  }
 ],
 "metadata": {
  "interpreter": {
   "hash": "ea26887fc9b8bc9d34b66040d78257aaab6d87b9be7bb8707c84b54ec2ea56ae"
  },
  "kernelspec": {
   "display_name": "Python 3.10.2 64-bit ('.venv': venv)",
   "language": "python",
   "name": "python3"
  },
  "language_info": {
   "codemirror_mode": {
    "name": "ipython",
    "version": 3
   },
   "file_extension": ".py",
   "mimetype": "text/x-python",
   "name": "python",
   "nbconvert_exporter": "python",
   "pygments_lexer": "ipython3",
   "version": "3.10.2"
  },
  "orig_nbformat": 4
 },
 "nbformat": 4,
 "nbformat_minor": 2
}
